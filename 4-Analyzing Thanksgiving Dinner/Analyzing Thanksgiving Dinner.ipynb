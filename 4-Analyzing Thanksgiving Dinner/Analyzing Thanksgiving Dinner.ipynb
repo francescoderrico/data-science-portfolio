{
 "cells": [
  {
   "cell_type": "markdown",
   "metadata": {},
   "source": [
    "# Introducing Thanksgiving Dinner Data"
   ]
  },
  {
   "cell_type": "code",
   "execution_count": 1,
   "metadata": {
    "collapsed": false
   },
   "outputs": [
    {
     "name": "stdout",
     "output_type": "stream",
     "text": [
      "   RespondentID Do you celebrate Thanksgiving?  \\\n",
      "0    4337954960                            Yes   \n",
      "1    4337951949                            Yes   \n",
      "2    4337935621                            Yes   \n",
      "\n",
      "  What is typically the main dish at your Thanksgiving dinner?  \\\n",
      "0                                             Turkey             \n",
      "1                                             Turkey             \n",
      "2                                             Turkey             \n",
      "\n",
      "  What is typically the main dish at your Thanksgiving dinner? - Other (please specify)  \\\n",
      "0                                                NaN                                      \n",
      "1                                                NaN                                      \n",
      "2                                                NaN                                      \n",
      "\n",
      "  How is the main dish typically cooked?  \\\n",
      "0                                  Baked   \n",
      "1                                  Baked   \n",
      "2                                Roasted   \n",
      "\n",
      "  How is the main dish typically cooked? - Other (please specify)  \\\n",
      "0                                                NaN                \n",
      "1                                                NaN                \n",
      "2                                                NaN                \n",
      "\n",
      "  What kind of stuffing/dressing do you typically have?  \\\n",
      "0                                        Bread-based      \n",
      "1                                        Bread-based      \n",
      "2                                         Rice-based      \n",
      "\n",
      "  What kind of stuffing/dressing do you typically have? - Other (please specify)  \\\n",
      "0                                                NaN                               \n",
      "1                                                NaN                               \n",
      "2                                                NaN                               \n",
      "\n",
      "  What type of cranberry saucedo you typically have?  \\\n",
      "0                                               None   \n",
      "1                             Other (please specify)   \n",
      "2                                           Homemade   \n",
      "\n",
      "  What type of cranberry saucedo you typically have? - Other (please specify)  \\\n",
      "0                                                NaN                            \n",
      "1                    Homemade cranberry gelatin ring                            \n",
      "2                                                NaN                            \n",
      "\n",
      "          ...          \\\n",
      "0         ...           \n",
      "1         ...           \n",
      "2         ...           \n",
      "\n",
      "  Have you ever tried to meet up with hometown friends on Thanksgiving night?  \\\n",
      "0                                                Yes                            \n",
      "1                                                 No                            \n",
      "2                                                Yes                            \n",
      "\n",
      "  Have you ever attended a \"Friendsgiving?\"  \\\n",
      "0                                        No   \n",
      "1                                        No   \n",
      "2                                       Yes   \n",
      "\n",
      "  Will you shop any Black Friday sales on Thanksgiving Day?  \\\n",
      "0                                                 No          \n",
      "1                                                Yes          \n",
      "2                                                Yes          \n",
      "\n",
      "  Do you work in retail? Will you employer make you work on Black Friday?  \\\n",
      "0                     No                                              NaN   \n",
      "1                     No                                              NaN   \n",
      "2                     No                                              NaN   \n",
      "\n",
      "  How would you describe where you live?      Age What is your gender?  \\\n",
      "0                               Suburban  18 - 29                 Male   \n",
      "1                                  Rural  18 - 29               Female   \n",
      "2                               Suburban  18 - 29                 Male   \n",
      "\n",
      "  How much total combined money did all members of your HOUSEHOLD earn last year?  \\\n",
      "0                                 $75,000 to $99,999                                \n",
      "1                                 $50,000 to $74,999                                \n",
      "2                                       $0 to $9,999                                \n",
      "\n",
      "            US Region  \n",
      "0     Middle Atlantic  \n",
      "1  East South Central  \n",
      "2            Mountain  \n",
      "\n",
      "[3 rows x 65 columns]\n"
     ]
    }
   ],
   "source": [
    "import pandas as pd\n",
    "data = pd.read_csv(\"thanksgiving.csv\", encoding = \"Latin-1\")\n",
    "print(data.head(3))"
   ]
  },
  {
   "cell_type": "code",
   "execution_count": 2,
   "metadata": {
    "collapsed": false
   },
   "outputs": [
    {
     "name": "stdout",
     "output_type": "stream",
     "text": [
      "Index(['RespondentID', 'Do you celebrate Thanksgiving?',\n",
      "       'What is typically the main dish at your Thanksgiving dinner?',\n",
      "       'What is typically the main dish at your Thanksgiving dinner? - Other (please specify)',\n",
      "       'How is the main dish typically cooked?',\n",
      "       'How is the main dish typically cooked? - Other (please specify)',\n",
      "       'What kind of stuffing/dressing do you typically have?',\n",
      "       'What kind of stuffing/dressing do you typically have? - Other (please specify)',\n",
      "       'What type of cranberry saucedo you typically have?',\n",
      "       'What type of cranberry saucedo you typically have? - Other (please specify)',\n",
      "       'Do you typically have gravy?',\n",
      "       'Which of these side dishes aretypically served at your Thanksgiving dinner? Please select all that apply. - Brussel sprouts',\n",
      "       'Which of these side dishes aretypically served at your Thanksgiving dinner? Please select all that apply. - Carrots',\n",
      "       'Which of these side dishes aretypically served at your Thanksgiving dinner? Please select all that apply. - Cauliflower',\n",
      "       'Which of these side dishes aretypically served at your Thanksgiving dinner? Please select all that apply. - Corn',\n",
      "       'Which of these side dishes aretypically served at your Thanksgiving dinner? Please select all that apply. - Cornbread',\n",
      "       'Which of these side dishes aretypically served at your Thanksgiving dinner? Please select all that apply. - Fruit salad',\n",
      "       'Which of these side dishes aretypically served at your Thanksgiving dinner? Please select all that apply. - Green beans/green bean casserole',\n",
      "       'Which of these side dishes aretypically served at your Thanksgiving dinner? Please select all that apply. - Macaroni and cheese',\n",
      "       'Which of these side dishes aretypically served at your Thanksgiving dinner? Please select all that apply. - Mashed potatoes',\n",
      "       'Which of these side dishes aretypically served at your Thanksgiving dinner? Please select all that apply. - Rolls/biscuits',\n",
      "       'Which of these side dishes aretypically served at your Thanksgiving dinner? Please select all that apply. - Squash',\n",
      "       'Which of these side dishes aretypically served at your Thanksgiving dinner? Please select all that apply. - Vegetable salad',\n",
      "       'Which of these side dishes aretypically served at your Thanksgiving dinner? Please select all that apply. - Yams/sweet potato casserole',\n",
      "       'Which of these side dishes aretypically served at your Thanksgiving dinner? Please select all that apply. - Other (please specify)',\n",
      "       'Which of these side dishes aretypically served at your Thanksgiving dinner? Please select all that apply. - Other (please specify).1',\n",
      "       'Which type of pie is typically served at your Thanksgiving dinner? Please select all that apply. - Apple',\n",
      "       'Which type of pie is typically served at your Thanksgiving dinner? Please select all that apply. - Buttermilk',\n",
      "       'Which type of pie is typically served at your Thanksgiving dinner? Please select all that apply. - Cherry',\n",
      "       'Which type of pie is typically served at your Thanksgiving dinner? Please select all that apply. - Chocolate',\n",
      "       'Which type of pie is typically served at your Thanksgiving dinner? Please select all that apply. - Coconut cream',\n",
      "       'Which type of pie is typically served at your Thanksgiving dinner? Please select all that apply. - Key lime',\n",
      "       'Which type of pie is typically served at your Thanksgiving dinner? Please select all that apply. - Peach',\n",
      "       'Which type of pie is typically served at your Thanksgiving dinner? Please select all that apply. - Pecan',\n",
      "       'Which type of pie is typically served at your Thanksgiving dinner? Please select all that apply. - Pumpkin',\n",
      "       'Which type of pie is typically served at your Thanksgiving dinner? Please select all that apply. - Sweet Potato',\n",
      "       'Which type of pie is typically served at your Thanksgiving dinner? Please select all that apply. - None',\n",
      "       'Which type of pie is typically served at your Thanksgiving dinner? Please select all that apply. - Other (please specify)',\n",
      "       'Which type of pie is typically served at your Thanksgiving dinner? Please select all that apply. - Other (please specify).1',\n",
      "       'Which of these desserts do you typically have at Thanksgiving dinner? Please select all that apply.   - Apple cobbler',\n",
      "       'Which of these desserts do you typically have at Thanksgiving dinner? Please select all that apply.   - Blondies',\n",
      "       'Which of these desserts do you typically have at Thanksgiving dinner? Please select all that apply.   - Brownies',\n",
      "       'Which of these desserts do you typically have at Thanksgiving dinner? Please select all that apply.   - Carrot cake',\n",
      "       'Which of these desserts do you typically have at Thanksgiving dinner? Please select all that apply.   - Cheesecake',\n",
      "       'Which of these desserts do you typically have at Thanksgiving dinner? Please select all that apply.   - Cookies',\n",
      "       'Which of these desserts do you typically have at Thanksgiving dinner? Please select all that apply.   - Fudge',\n",
      "       'Which of these desserts do you typically have at Thanksgiving dinner? Please select all that apply.   - Ice cream',\n",
      "       'Which of these desserts do you typically have at Thanksgiving dinner? Please select all that apply.   - Peach cobbler',\n",
      "       'Which of these desserts do you typically have at Thanksgiving dinner? Please select all that apply.   - None',\n",
      "       'Which of these desserts do you typically have at Thanksgiving dinner? Please select all that apply.   - Other (please specify)',\n",
      "       'Which of these desserts do you typically have at Thanksgiving dinner? Please select all that apply.   - Other (please specify).1',\n",
      "       'Do you typically pray before or after the Thanksgiving meal?',\n",
      "       'How far will you travel for Thanksgiving?',\n",
      "       'Will you watch any of the following programs on Thanksgiving? Please select all that apply. - Macy's Parade',\n",
      "       'What's the age cutoff at your \"kids' table\" at Thanksgiving?',\n",
      "       'Have you ever tried to meet up with hometown friends on Thanksgiving night?',\n",
      "       'Have you ever attended a \"Friendsgiving?\"',\n",
      "       'Will you shop any Black Friday sales on Thanksgiving Day?',\n",
      "       'Do you work in retail?',\n",
      "       'Will you employer make you work on Black Friday?',\n",
      "       'How would you describe where you live?', 'Age', 'What is your gender?',\n",
      "       'How much total combined money did all members of your HOUSEHOLD earn last year?',\n",
      "       'US Region'],\n",
      "      dtype='object')\n"
     ]
    }
   ],
   "source": [
    "col_names = data.columns\n",
    "print(col_names)"
   ]
  },
  {
   "cell_type": "markdown",
   "metadata": {},
   "source": [
    "# Filtering Out Rows From A DataFrame"
   ]
  },
  {
   "cell_type": "code",
   "execution_count": 3,
   "metadata": {
    "collapsed": false
   },
   "outputs": [
    {
     "name": "stdout",
     "output_type": "stream",
     "text": [
      "Yes    980\n",
      "No      78\n",
      "Name: Do you celebrate Thanksgiving?, dtype: int64\n"
     ]
    }
   ],
   "source": [
    "print(data['Do you celebrate Thanksgiving?'].value_counts())"
   ]
  },
  {
   "cell_type": "code",
   "execution_count": 4,
   "metadata": {
    "collapsed": false
   },
   "outputs": [
    {
     "name": "stdout",
     "output_type": "stream",
     "text": [
      "980\n"
     ]
    }
   ],
   "source": [
    "tg_yes = data[data['Do you celebrate Thanksgiving?'] == 'Yes']\n",
    "print(len(tg_yes))"
   ]
  },
  {
   "cell_type": "markdown",
   "metadata": {},
   "source": [
    "# Using value_counts To Explore Main Dishes"
   ]
  },
  {
   "cell_type": "code",
   "execution_count": 5,
   "metadata": {
    "collapsed": false
   },
   "outputs": [
    {
     "name": "stdout",
     "output_type": "stream",
     "text": [
      "Turkey                    859\n",
      "Other (please specify)     35\n",
      "Ham/Pork                   29\n",
      "Tofurkey                   20\n",
      "Chicken                    12\n",
      "Roast beef                 11\n",
      "I don't know                5\n",
      "Turducken                   3\n",
      "Name: What is typically the main dish at your Thanksgiving dinner?, dtype: int64\n"
     ]
    }
   ],
   "source": [
    "print(data['What is typically the main dish at your Thanksgiving dinner?'].value_counts())"
   ]
  },
  {
   "cell_type": "code",
   "execution_count": 6,
   "metadata": {
    "collapsed": false
   },
   "outputs": [
    {
     "name": "stdout",
     "output_type": "stream",
     "text": [
      "4      Yes\n",
      "33     Yes\n",
      "69      No\n",
      "72      No\n",
      "77     Yes\n",
      "145    Yes\n",
      "175    Yes\n",
      "218     No\n",
      "243    Yes\n",
      "275     No\n",
      "393    Yes\n",
      "399    Yes\n",
      "571    Yes\n",
      "594    Yes\n",
      "628     No\n",
      "774     No\n",
      "820     No\n",
      "837    Yes\n",
      "860     No\n",
      "953    Yes\n",
      "Name: Do you typically have gravy?, dtype: object\n"
     ]
    }
   ],
   "source": [
    "tofurkey = data[data['What is typically the main dish at your Thanksgiving dinner?'] == 'Tofurkey']\n",
    "gravy_tofurkey = tofurkey['Do you typically have gravy?']\n",
    "print(gravy_tofurkey)"
   ]
  },
  {
   "cell_type": "markdown",
   "metadata": {},
   "source": [
    "# Figuring Out What Pies People Eat"
   ]
  },
  {
   "cell_type": "code",
   "execution_count": 7,
   "metadata": {
    "collapsed": false
   },
   "outputs": [
    {
     "data": {
      "text/plain": [
       "False    876\n",
       "True     182\n",
       "dtype: int64"
      ]
     },
     "execution_count": 7,
     "metadata": {},
     "output_type": "execute_result"
    }
   ],
   "source": [
    "ate_pies = (pd.isnull(data[\"Which type of pie is typically served at your Thanksgiving dinner? Please select all that apply. - Apple\"])\n",
    "&\n",
    "pd.isnull(data[\"Which type of pie is typically served at your Thanksgiving dinner? Please select all that apply. - Pecan\"])\n",
    " &\n",
    " pd.isnull(data[\"Which type of pie is typically served at your Thanksgiving dinner? Please select all that apply. - Pumpkin\"])\n",
    ")\n",
    "\n",
    "ate_pies.value_counts()"
   ]
  },
  {
   "cell_type": "markdown",
   "metadata": {},
   "source": [
    "# Converting Age To Numeric"
   ]
  },
  {
   "cell_type": "code",
   "execution_count": 8,
   "metadata": {
    "collapsed": false
   },
   "outputs": [
    {
     "data": {
      "text/plain": [
       "45 - 59    286\n",
       "60+        264\n",
       "30 - 44    259\n",
       "18 - 29    216\n",
       "Name: Age, dtype: int64"
      ]
     },
     "execution_count": 8,
     "metadata": {},
     "output_type": "execute_result"
    }
   ],
   "source": [
    "data[\"Age\"].value_counts()"
   ]
  },
  {
   "cell_type": "code",
   "execution_count": 9,
   "metadata": {
    "collapsed": false
   },
   "outputs": [
    {
     "data": {
      "text/plain": [
       "count    1025.000000\n",
       "mean       39.383415\n",
       "std        15.398493\n",
       "min        18.000000\n",
       "25%        30.000000\n",
       "50%        45.000000\n",
       "75%        60.000000\n",
       "max        60.000000\n",
       "Name: int_age, dtype: float64"
      ]
     },
     "execution_count": 9,
     "metadata": {},
     "output_type": "execute_result"
    }
   ],
   "source": [
    "def to_int(x):\n",
    "    if pd.isnull(x) == True:\n",
    "        return None\n",
    "    x = x.split(\" \")[0]\n",
    "    x = x.replace(\"+\", \"\")\n",
    "    return int(x)\n",
    "    \n",
    "data[\"int_age\"] = data[\"Age\"].apply(to_int)\n",
    "data[\"int_age\"].describe()"
   ]
  },
  {
   "cell_type": "markdown",
   "metadata": {},
   "source": [
    "### Findings"
   ]
  },
  {
   "cell_type": "markdown",
   "metadata": {},
   "source": [
    "We took only the first value of each string (the lower bound). It's a row approximation."
   ]
  },
  {
   "cell_type": "code",
   "execution_count": 10,
   "metadata": {
    "collapsed": false
   },
   "outputs": [
    {
     "data": {
      "text/plain": [
       "$25,000 to $49,999      180\n",
       "Prefer not to answer    136\n",
       "$50,000 to $74,999      135\n",
       "$75,000 to $99,999      133\n",
       "$100,000 to $124,999    111\n",
       "$200,000 and up          80\n",
       "$10,000 to $24,999       68\n",
       "$0 to $9,999             66\n",
       "$125,000 to $149,999     49\n",
       "$150,000 to $174,999     40\n",
       "$175,000 to $199,999     27\n",
       "Name: How much total combined money did all members of your HOUSEHOLD earn last year?, dtype: int64"
      ]
     },
     "execution_count": 10,
     "metadata": {},
     "output_type": "execute_result"
    }
   ],
   "source": [
    "data[\"How much total combined money did all members of your HOUSEHOLD earn last year?\"].value_counts()"
   ]
  },
  {
   "cell_type": "code",
   "execution_count": 11,
   "metadata": {
    "collapsed": false
   },
   "outputs": [
    {
     "data": {
      "text/plain": [
       "count       889.000000\n",
       "mean      74077.615298\n",
       "std       59360.742902\n",
       "min           0.000000\n",
       "25%       25000.000000\n",
       "50%       50000.000000\n",
       "75%      100000.000000\n",
       "max      200000.000000\n",
       "Name: int_income, dtype: float64"
      ]
     },
     "execution_count": 11,
     "metadata": {},
     "output_type": "execute_result"
    }
   ],
   "source": [
    "def str_to_int(x):\n",
    "    if pd.isnull(x) == True:\n",
    "        return None\n",
    "    x = x.split(\" \")[0]\n",
    "    if x == \"Prefer\":\n",
    "        return None\n",
    "    x = x.replace(\"$\", \"\")\n",
    "    x = x.replace(\",\", \"\")\n",
    "    return int(x)\n",
    "data[\"int_income\"] = data[\"How much total combined money did all members of your HOUSEHOLD earn last year?\"].apply(str_to_int)\n",
    "data[\"int_income\"].describe()"
   ]
  },
  {
   "cell_type": "markdown",
   "metadata": {},
   "source": [
    "### Findings"
   ]
  },
  {
   "cell_type": "markdown",
   "metadata": {},
   "source": [
    "We took only the first value of each string (the lower bound). It's a row approximation. The average income is high and there is also a large standard deviation."
   ]
  },
  {
   "cell_type": "markdown",
   "metadata": {},
   "source": [
    "# Correlating Travel Distance And Income"
   ]
  },
  {
   "cell_type": "code",
   "execution_count": 12,
   "metadata": {
    "collapsed": false
   },
   "outputs": [
    {
     "data": {
      "text/plain": [
       "Thanksgiving is happening at my home--I won't travel at all                         281\n",
       "Thanksgiving is local--it will take place in the town I live in                     203\n",
       "Thanksgiving is out of town but not too far--it's a drive of a few hours or less    150\n",
       "Thanksgiving is out of town and far away--I have to drive several hours or fly       55\n",
       "Name: How far will you travel for Thanksgiving?, dtype: int64"
      ]
     },
     "execution_count": 12,
     "metadata": {},
     "output_type": "execute_result"
    }
   ],
   "source": [
    "l_inc = data[data['int_income'] < 150000]['How far will you travel for Thanksgiving?']\n",
    "l_inc.value_counts()"
   ]
  },
  {
   "cell_type": "code",
   "execution_count": 13,
   "metadata": {
    "collapsed": false
   },
   "outputs": [
    {
     "data": {
      "text/plain": [
       "Thanksgiving is happening at my home--I won't travel at all                         49\n",
       "Thanksgiving is local--it will take place in the town I live in                     25\n",
       "Thanksgiving is out of town but not too far--it's a drive of a few hours or less    16\n",
       "Thanksgiving is out of town and far away--I have to drive several hours or fly      12\n",
       "Name: How far will you travel for Thanksgiving?, dtype: int64"
      ]
     },
     "execution_count": 13,
     "metadata": {},
     "output_type": "execute_result"
    }
   ],
   "source": [
    "h_inc = data[data['int_income'] > 150000]['How far will you travel for Thanksgiving?']\n",
    "h_inc.value_counts()"
   ]
  },
  {
   "cell_type": "markdown",
   "metadata": {},
   "source": [
    "### Findings"
   ]
  },
  {
   "cell_type": "markdown",
   "metadata": {},
   "source": [
    "It appears that more people with a high income have thanksgiving at home than people with low income."
   ]
  },
  {
   "cell_type": "markdown",
   "metadata": {},
   "source": [
    "# Linking Friendship And Age"
   ]
  },
  {
   "cell_type": "code",
   "execution_count": 14,
   "metadata": {
    "collapsed": false
   },
   "outputs": [
    {
     "data": {
      "text/html": [
       "<div>\n",
       "<table border=\"1\" class=\"dataframe\">\n",
       "  <thead>\n",
       "    <tr style=\"text-align: right;\">\n",
       "      <th>Have you ever attended a \"Friendsgiving?\"</th>\n",
       "      <th>No</th>\n",
       "      <th>Yes</th>\n",
       "    </tr>\n",
       "    <tr>\n",
       "      <th>Have you ever tried to meet up with hometown friends on Thanksgiving night?</th>\n",
       "      <th></th>\n",
       "      <th></th>\n",
       "    </tr>\n",
       "  </thead>\n",
       "  <tbody>\n",
       "    <tr>\n",
       "      <th>No</th>\n",
       "      <td>42.283702</td>\n",
       "      <td>37.010526</td>\n",
       "    </tr>\n",
       "    <tr>\n",
       "      <th>Yes</th>\n",
       "      <td>41.475410</td>\n",
       "      <td>33.976744</td>\n",
       "    </tr>\n",
       "  </tbody>\n",
       "</table>\n",
       "</div>"
      ],
      "text/plain": [
       "Have you ever attended a \"Friendsgiving?\"                  No        Yes\n",
       "Have you ever tried to meet up with hometown fr...                      \n",
       "No                                                  42.283702  37.010526\n",
       "Yes                                                 41.475410  33.976744"
      ]
     },
     "execution_count": 14,
     "metadata": {},
     "output_type": "execute_result"
    }
   ],
   "source": [
    "data.pivot_table(\n",
    "    index = \"Have you ever tried to meet up with hometown friends on Thanksgiving night?\", \n",
    "    columns = 'Have you ever attended a \"Friendsgiving?\"', \n",
    "    values = \"int_age\")"
   ]
  },
  {
   "cell_type": "code",
   "execution_count": 15,
   "metadata": {
    "collapsed": false
   },
   "outputs": [
    {
     "data": {
      "text/html": [
       "<div>\n",
       "<table border=\"1\" class=\"dataframe\">\n",
       "  <thead>\n",
       "    <tr style=\"text-align: right;\">\n",
       "      <th>Have you ever attended a \"Friendsgiving?\"</th>\n",
       "      <th>No</th>\n",
       "      <th>Yes</th>\n",
       "    </tr>\n",
       "    <tr>\n",
       "      <th>Have you ever tried to meet up with hometown friends on Thanksgiving night?</th>\n",
       "      <th></th>\n",
       "      <th></th>\n",
       "    </tr>\n",
       "  </thead>\n",
       "  <tbody>\n",
       "    <tr>\n",
       "      <th>No</th>\n",
       "      <td>78914.549654</td>\n",
       "      <td>72894.736842</td>\n",
       "    </tr>\n",
       "    <tr>\n",
       "      <th>Yes</th>\n",
       "      <td>78750.000000</td>\n",
       "      <td>66019.736842</td>\n",
       "    </tr>\n",
       "  </tbody>\n",
       "</table>\n",
       "</div>"
      ],
      "text/plain": [
       "Have you ever attended a \"Friendsgiving?\"                     No           Yes\n",
       "Have you ever tried to meet up with hometown fr...                            \n",
       "No                                                  78914.549654  72894.736842\n",
       "Yes                                                 78750.000000  66019.736842"
      ]
     },
     "execution_count": 15,
     "metadata": {},
     "output_type": "execute_result"
    }
   ],
   "source": [
    "data.pivot_table(\n",
    "    index = \"Have you ever tried to meet up with hometown friends on Thanksgiving night?\", \n",
    "    columns = 'Have you ever attended a \"Friendsgiving?\"', \n",
    "    values = \"int_income\")"
   ]
  },
  {
   "cell_type": "markdown",
   "metadata": {},
   "source": [
    "### Findings"
   ]
  },
  {
   "cell_type": "markdown",
   "metadata": {},
   "source": [
    "It appears that people who are younger are more likely to attend a Friendsgiving, and try to meet up with friends on Thanksgiving."
   ]
  },
  {
   "cell_type": "markdown",
   "metadata": {},
   "source": [
    "# Figure Out The Most Common Dessert People Eat"
   ]
  },
  {
   "cell_type": "code",
   "execution_count": 16,
   "metadata": {
    "collapsed": false
   },
   "outputs": [
    {
     "data": {
      "text/plain": [
       "{'Blondies': 16,\n",
       " 'Brownies': 128,\n",
       " 'Cheesecake': 191,\n",
       " 'Cookies': 204,\n",
       " 'Fudge': 43,\n",
       " 'cake': 72,\n",
       " 'cobbler': 103,\n",
       " 'cream': 266}"
      ]
     },
     "execution_count": 16,
     "metadata": {},
     "output_type": "execute_result"
    }
   ],
   "source": [
    "dessert_count = {}\n",
    "desserts = data.loc[: ,'Which of these desserts do you typically have at Thanksgiving dinner? Please select all that apply.   - Apple cobbler':'Which of these desserts do you typically have at Thanksgiving dinner? Please select all that apply.   - Peach cobbler']\n",
    "\n",
    "for col in desserts.columns:\n",
    "    name = col.split(' ')[-1]\n",
    "    dessert_count[name] = pd.notnull(desserts[col]).value_counts()[True]\n",
    "    \n",
    "dessert_count"
   ]
  },
  {
   "cell_type": "code",
   "execution_count": 24,
   "metadata": {
    "collapsed": false
   },
   "outputs": [
    {
     "name": "stdout",
     "output_type": "stream",
     "text": [
      "cream 266\n"
     ]
    }
   ],
   "source": [
    "print(max(dessert_count), dessert_count[max(dessert_count)])"
   ]
  }
 ],
 "metadata": {
  "kernelspec": {
   "display_name": "Python 3",
   "language": "python",
   "name": "python3"
  },
  "language_info": {
   "codemirror_mode": {
    "name": "ipython",
    "version": 3
   },
   "file_extension": ".py",
   "mimetype": "text/x-python",
   "name": "python",
   "nbconvert_exporter": "python",
   "pygments_lexer": "ipython3",
   "version": "3.4.3"
  }
 },
 "nbformat": 4,
 "nbformat_minor": 0
}
