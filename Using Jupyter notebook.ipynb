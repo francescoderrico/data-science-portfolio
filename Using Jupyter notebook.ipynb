{
 "cells": [
  {
   "cell_type": "markdown",
   "metadata": {},
   "source": [
    "# Birth Dates In The United States\n",
    "\n",
    "I worked with the \"births.csv\" dataset. The data has the following structure:\n",
    "\n",
    "- `year` - Year\n",
    "- `month` - Month\n",
    "- `date_of_month` - Day number of month\n",
    "- `day_of_week` - Day of week, where 1 is Monday\n",
    "- `births` - Number of births\n",
    "\n",
    "The final result it's a dictionary \"days_counts\" with the total number of births per each day of week."
   ]
  },
  {
   "cell_type": "code",
   "execution_count": 4,
   "metadata": {},
   "outputs": [
    {
     "data": {
      "text/plain": [
       "{'1': 5789166,\n",
       " '2': 6446196,\n",
       " '3': 6322855,\n",
       " '4': 6288429,\n",
       " '5': 6233657,\n",
       " '6': 4562111,\n",
       " '7': 4079723}"
      ]
     },
     "execution_count": 4,
     "metadata": {},
     "output_type": "execute_result"
    }
   ],
   "source": [
    "f = open(\"births.csv\", \"r\")\n",
    "text = f.read()\n",
    "split_text = text.split(\"\\n\")\n",
    "\n",
    "no_header = split_text[1:len(split_text)]\n",
    "days_counts = {}\n",
    "\n",
    "for i in no_header:\n",
    "    day = i.split(\",\")\n",
    "    day_of_week = day[3]\n",
    "    births = day[4]\n",
    "    \n",
    "    if day_of_week in days_counts:\n",
    "        days_counts[day_of_week] = days_counts[day_of_week] + int(births)\n",
    "    else:\n",
    "        days_counts[day_of_week] = int(births)\n",
    "        \n",
    "days_counts"
   ]
  },
  {
   "cell_type": "code",
   "execution_count": null,
   "metadata": {
    "collapsed": true
   },
   "outputs": [],
   "source": []
  }
 ],
 "metadata": {
  "anaconda-cloud": {},
  "kernelspec": {
   "display_name": "Python 3",
   "language": "python",
   "name": "python3"
  },
  "language_info": {
   "codemirror_mode": {
    "name": "ipython",
    "version": 3
   },
   "file_extension": ".py",
   "mimetype": "text/x-python",
   "name": "python",
   "nbconvert_exporter": "python",
   "pygments_lexer": "ipython3",
   "version": "3.6.3"
  }
 },
 "nbformat": 4,
 "nbformat_minor": 1
}
